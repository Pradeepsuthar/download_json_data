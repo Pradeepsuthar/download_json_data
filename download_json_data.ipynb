{
  "nbformat": 4,
  "nbformat_minor": 0,
  "metadata": {
    "colab": {
      "name": "download_json_data.ipynb",
      "provenance": [],
      "collapsed_sections": [],
      "authorship_tag": "ABX9TyO59n3GylMdoUJbO2XeI6qW",
      "include_colab_link": true
    },
    "kernelspec": {
      "name": "python3",
      "display_name": "Python 3"
    }
  },
  "cells": [
    {
      "cell_type": "markdown",
      "metadata": {
        "id": "view-in-github",
        "colab_type": "text"
      },
      "source": [
        "<a href=\"https://colab.research.google.com/github/Pradeepsuthar/download_json_data/blob/master/download_json_data.ipynb\" target=\"_parent\"><img src=\"https://colab.research.google.com/assets/colab-badge.svg\" alt=\"Open In Colab\"/></a>"
      ]
    },
    {
      "cell_type": "code",
      "metadata": {
        "id": "4bTwfGKJaHc4",
        "colab_type": "code",
        "colab": {}
      },
      "source": [
        "import json\n",
        "import requests\n",
        "\n",
        "url = input(\"Enter url : \")\n",
        "\n",
        "request = requests.get(url)\n",
        "\n",
        "data_in_text = request.text\n",
        "\n",
        "data = json.loads(data_in_text)\n",
        "print(\"All data is fetch successfully.\")\n",
        "\n",
        "file_name = input(\"Enter file name : \")\n",
        "\n",
        "json_file = file_name+\".json\"\n",
        "\n",
        "json.dump(data , open(json_file,\"w\"))\n",
        "\n",
        "print(\"File is downloaded successfully.\\nFile Name : %s\"%(json_file ))"
      ],
      "execution_count": 0,
      "outputs": []
    }
  ]
}